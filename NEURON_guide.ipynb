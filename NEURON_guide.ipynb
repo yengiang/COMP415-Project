{
 "cells": [
  {
   "cell_type": "markdown",
   "metadata": {},
   "source": [
    "# NEURON SIMULATOR STEP-BY-STEP GUIDE\n",
    "\n",
    "This guide main aim is to show you how to use the NEURON Simulator on VSCode."
   ]
  },
  {
   "cell_type": "markdown",
   "metadata": {},
   "source": [
    "This file is called Jypyter notebook. It is a powerful tool for interactively developing and presenting data science projects. It combines code, visualizations, narrative text, and other rich media into a single document, creating a cohesive and expressive workflow."
   ]
  },
  {
   "cell_type": "markdown",
   "metadata": {},
   "source": [
    "## Set up"
   ]
  },
  {
   "cell_type": "markdown",
   "metadata": {},
   "source": [
    "### NEURON Simulator set up\n",
    "To download the app, look at this guide: https://nrn.readthedocs.io/en/8.2.6/install/install_instructions.html\n",
    "\n",
    "\n",
    "### VSCode/Python set up\n",
    "- VSCode download: https://code.visualstudio.com/Download\n",
    "- Tutorial to download VScode: https://www.youtube.com/watch?time_continue=2&v=4iUJZEa2xP8&embeds_referring_euri=https%3A%2F%2Fduckduckgo.com%2F\n",
    "- Python download: https://www.python.org/downloads/"
   ]
  },
  {
   "cell_type": "markdown",
   "metadata": {},
   "source": [
    "## Run simulation"
   ]
  },
  {
   "cell_type": "markdown",
   "metadata": {},
   "source": [
    "### Installments"
   ]
  },
  {
   "cell_type": "code",
   "execution_count": null,
   "metadata": {},
   "outputs": [],
   "source": [
    "# Download matplotlib\n",
    "!pip install matplotlib"
   ]
  },
  {
   "cell_type": "code",
   "execution_count": null,
   "metadata": {},
   "outputs": [],
   "source": [
    "# Import NEURON and optional GUI\n",
    "from neuron import h, gui  \n",
    "\n",
    "# Import matplotlib for visualization\n",
    "import matplotlib.pyplot as plt"
   ]
  },
  {
   "cell_type": "markdown",
   "metadata": {},
   "source": [
    "### Project 1"
   ]
  },
  {
   "cell_type": "markdown",
   "metadata": {},
   "source": [
    "The code below main purpose is to create a function name SimpleNeuron with adjustible ion channel density. Using this function, we simulate a neuron with different ion channel density."
   ]
  },
  {
   "cell_type": "code",
   "execution_count": 1,
   "metadata": {},
   "outputs": [],
   "source": [
    "# Define a simple neuron model with adjustable ion channel density\n",
    "class SimpleNeuron:\n",
    "    def __init__(self, sodium_density=0.12, potassium_density=0.036):\n",
    "        self.soma = h.Section(name='soma')\n",
    "        self.soma.L = 20  # Length of soma (microns)\n",
    "        self.soma.diam = 20  # Diameter of soma (microns)\n",
    "        self.soma.insert('hh')  # Insert Hodgkin-Huxley channels\n",
    "        \n",
    "        # Set ion channel densities (in S/cm^2 for conductance)\n",
    "        self.soma.gnabar_hh = sodium_density  # Sodium channel density (default: 0.12 S/cm^2)\n",
    "        self.soma.gkbar_hh = potassium_density  # Potassium channel density (default: 0.036 S/cm^2)\n"
   ]
  },
  {
   "cell_type": "markdown",
   "metadata": {},
   "source": [
    "The code below create 2 neurons, pre and postsynaptic neuron with different ion channel. There are 3 stimulation to the neuron. To change the variable like delay time and duration of a stimulation, you could click into the code and change the number. Running this code will show you the result of the simulation through a graph. There is also an explanation for each code like what is it using for in the #..."
   ]
  },
  {
   "cell_type": "code",
   "execution_count": null,
   "metadata": {},
   "outputs": [],
   "source": [
    "\n",
    "# Create pre- and postsynaptic neurons with different ion channel densities if desired\n",
    "pre_neuron = SimpleNeuron(sodium_density=0.15, potassium_density=0.04)  # Adjust densities as needed\n",
    "post_neuron = SimpleNeuron(sodium_density=0.12, potassium_density=0.036)\n",
    "\n",
    "# Create a synapse on the postsynaptic neuron\n",
    "syn = h.ExpSyn(post_neuron.soma(0.5))  # Exponential synapse at the midpoint of the postsynaptic soma\n",
    "syn.tau = 2  # Synaptic time constant (ms)\n",
    "\n",
    "# Connect the presynaptic neuron to the postsynaptic synapse\n",
    "netcon = h.NetCon(pre_neuron.soma(0.5)._ref_v, syn, sec=pre_neuron.soma)  # Link voltage to synapse\n",
    "netcon.weight[0] = 0.1  # Set initial synaptic weight\n",
    "netcon.delay = 5  # Transmission delay (ms)\n",
    "\n",
    "# Apply multiple current stimuli to the presynaptic neuron\n",
    "stim1 = h.IClamp(pre_neuron.soma(0.5))  # First stimulus\n",
    "stim1.delay = 5  # Start time of first stimulus (ms)\n",
    "stim1.dur = 1  # Duration of first stimulus (ms)\n",
    "stim1.amp = 0.1  # Amplitude of first stimulus (nA)\n",
    "\n",
    "stim2 = h.IClamp(pre_neuron.soma(0.5))  # Second stimulus\n",
    "stim2.delay = 15  # Start time for the second pulse (ms)\n",
    "stim2.dur = 1  # Duration of the second pulse (ms)\n",
    "stim2.amp = 0.1  # Amplitude of the second pulse (nA)\n",
    "\n",
    "stim3 = h.IClamp(pre_neuron.soma(0.5))  # Third stimulus\n",
    "stim3.delay = 25  # Start time for the third pulse (ms)\n",
    "stim3.dur = 1  # Duration of the third pulse (ms)\n",
    "stim3.amp = 0.1  # Amplitude of the third pulse (nA)\n",
    "\n",
    "# Record time and membrane potentials for both neurons\n",
    "t = h.Vector().record(h._ref_t)  # Record simulation time\n",
    "v_pre = h.Vector().record(pre_neuron.soma(0.5)._ref_v)  # Record voltage from presynaptic neuron\n",
    "v_post = h.Vector().record(post_neuron.soma(0.5)._ref_v)  # Record voltage from postsynaptic neuron\n",
    "\n",
    "# Run the simulation\n",
    "h.tstop = 40  # Simulation stop time (ms)\n",
    "h.run()\n",
    "\n",
    "# Plotting the results using matplotlib\n",
    "plt.figure()\n",
    "plt.plot(t, v_pre, label='Presynaptic Neuron')\n",
    "plt.plot(t, v_post, label='Postsynaptic Neuron')\n",
    "plt.xlabel('Time (ms)')\n",
    "plt.ylabel('Membrane Potential (mV)')\n",
    "plt.title('Membrane Potentials of Pre- and Postsynaptic Neurons with Three Firings')\n",
    "plt.legend()\n",
    "plt.show()"
   ]
  }
 ],
 "metadata": {
  "kernelspec": {
   "display_name": "py39",
   "language": "python",
   "name": "python3"
  },
  "language_info": {
   "codemirror_mode": {
    "name": "ipython",
    "version": 3
   },
   "file_extension": ".py",
   "mimetype": "text/x-python",
   "name": "python",
   "nbconvert_exporter": "python",
   "pygments_lexer": "ipython3",
   "version": "3.9.20"
  }
 },
 "nbformat": 4,
 "nbformat_minor": 2
}
